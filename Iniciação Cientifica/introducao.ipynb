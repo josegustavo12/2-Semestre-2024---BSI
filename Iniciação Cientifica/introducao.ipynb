{
 "cells": [
  {
   "cell_type": "markdown",
   "metadata": {},
   "source": [
    "# Introdução ao Qiskit\n",
    "## Hello World IBM\n",
    "### Instalação\n",
    "Seguindo o tutorial da documentação do site: https://docs.quantum.ibm.com/guides/install-qiskit\n",
    "\n",
    "1. **Criação de um Ambiente Virtual em python**\n",
    "> https://dev.to/franciscojdsjr/guia-completo-para-usar-o-virtual-environment-venv-no-python-57bo\n",
    "\n",
    "2. **Ativação do Venv**\n",
    "> source meu_ambiente_virtual/bin/activate\n",
    "\n",
    "3. **Instalando o Qiskit SDK e o Qiskit Runtime client**\n",
    "#### **Qiskit SDK**:\n",
    "O **Qiskit SDK** é uma biblioteca de código aberto que permite programar, simular e executar algoritmos quânticos em Python. Ele inclui ferramentas para criar circuitos quânticos, simular sua execução localmente ou rodá-los em computadores quânticos reais, como os da IBM Quantum.\n",
    "\n",
    "#### **Qiskit Runtime Client**:\n",
    "O **Qiskit Runtime Client** é uma interface que permite executar algoritmos quânticos na nuvem de forma mais eficiente e rápida, reduzindo o tempo de execução e otimizado para algoritmos com muitas iterações. Ele integra-se ao Qiskit SDK para uma experiência fluida.\n",
    "\n",
    "> pip install qiskit\n",
    "\n",
    "> pip install qiskit-ibm-runtime\n",
    "\n",
    "Se você pretende vizualizar funcionalidades no Jupyter Notebook, é recomendado instalar o pacote abaixo\n",
    "\n",
    "> pip install qiskit[visualization]\n",
    "\n",
    "\n"
   ]
  },
  {
   "cell_type": "code",
   "execution_count": 5,
   "metadata": {},
   "outputs": [
    {
     "name": "stdout",
     "output_type": "stream",
     "text": [
      "Requirement already satisfied: qiskit[all] in /home/josegustavo/.local/lib/python3.8/site-packages (1.2.2)\n",
      "Requirement already satisfied: stevedore>=3.0.0 in /home/josegustavo/.local/lib/python3.8/site-packages (from qiskit[all]) (5.3.0)\n",
      "Requirement already satisfied: rustworkx>=0.15.0 in /home/josegustavo/.local/lib/python3.8/site-packages (from qiskit[all]) (0.15.1)\n",
      "Requirement already satisfied: typing-extensions in /home/josegustavo/.local/lib/python3.8/site-packages (from qiskit[all]) (4.12.2)\n",
      "Requirement already satisfied: scipy>=1.5 in /home/josegustavo/.local/lib/python3.8/site-packages (from qiskit[all]) (1.10.1)\n",
      "Requirement already satisfied: python-dateutil>=2.8.0 in /home/josegustavo/.local/lib/python3.8/site-packages (from qiskit[all]) (2.9.0.post0)\n",
      "Requirement already satisfied: numpy<3,>=1.17 in /home/josegustavo/.local/lib/python3.8/site-packages (from qiskit[all]) (1.24.4)\n",
      "Requirement already satisfied: sympy>=1.3 in /home/josegustavo/.local/lib/python3.8/site-packages (from qiskit[all]) (1.13.3)\n",
      "Requirement already satisfied: symengine>=0.11 in /home/josegustavo/.local/lib/python3.8/site-packages (from qiskit[all]) (0.11.0)\n",
      "Requirement already satisfied: dill>=0.3 in /home/josegustavo/.local/lib/python3.8/site-packages (from qiskit[all]) (0.3.8)\n",
      "Requirement already satisfied: pbr>=2.0.0 in /home/josegustavo/.local/lib/python3.8/site-packages (from stevedore>=3.0.0->qiskit[all]) (6.1.0)\n",
      "Requirement already satisfied: six>=1.5 in /usr/lib/python3/dist-packages (from python-dateutil>=2.8.0->qiskit[all]) (1.14.0)\n",
      "Requirement already satisfied: mpmath<1.4,>=1.1.0 in /home/josegustavo/.local/lib/python3.8/site-packages (from sympy>=1.3->qiskit[all]) (1.3.0)\n",
      "Requirement already satisfied: qiskit-ibm-runtime in /home/josegustavo/.local/lib/python3.8/site-packages (0.30.0)\n",
      "Requirement already satisfied: numpy>=1.13 in /home/josegustavo/.local/lib/python3.8/site-packages (from qiskit-ibm-runtime) (1.24.4)\n",
      "Requirement already satisfied: ibm-platform-services>=0.22.6 in /home/josegustavo/.local/lib/python3.8/site-packages (from qiskit-ibm-runtime) (0.57.1)\n",
      "Requirement already satisfied: requests>=2.19 in /home/josegustavo/.local/lib/python3.8/site-packages (from qiskit-ibm-runtime) (2.32.3)\n",
      "Requirement already satisfied: python-dateutil>=2.8.0 in /home/josegustavo/.local/lib/python3.8/site-packages (from qiskit-ibm-runtime) (2.9.0.post0)\n",
      "Requirement already satisfied: pydantic>=2.5.0 in /home/josegustavo/.local/lib/python3.8/site-packages (from qiskit-ibm-runtime) (2.9.2)\n",
      "Requirement already satisfied: qiskit>=1.1.0 in /home/josegustavo/.local/lib/python3.8/site-packages (from qiskit-ibm-runtime) (1.2.2)\n",
      "Requirement already satisfied: websocket-client>=1.5.1 in /home/josegustavo/.local/lib/python3.8/site-packages (from qiskit-ibm-runtime) (1.8.0)\n",
      "Requirement already satisfied: urllib3>=1.21.1 in /usr/lib/python3/dist-packages (from qiskit-ibm-runtime) (1.25.8)\n",
      "Requirement already satisfied: requests-ntlm>=1.1.0 in /home/josegustavo/.local/lib/python3.8/site-packages (from qiskit-ibm-runtime) (1.3.0)\n",
      "Requirement already satisfied: ibm-cloud-sdk-core<4.0.0,>=3.21.0 in /home/josegustavo/.local/lib/python3.8/site-packages (from ibm-platform-services>=0.22.6->qiskit-ibm-runtime) (3.21.0)\n",
      "Requirement already satisfied: idna<4,>=2.5 in /usr/lib/python3/dist-packages (from requests>=2.19->qiskit-ibm-runtime) (2.8)\n",
      "Requirement already satisfied: certifi>=2017.4.17 in /usr/lib/python3/dist-packages (from requests>=2.19->qiskit-ibm-runtime) (2019.11.28)\n",
      "Requirement already satisfied: charset-normalizer<4,>=2 in /home/josegustavo/.local/lib/python3.8/site-packages (from requests>=2.19->qiskit-ibm-runtime) (3.3.2)\n",
      "Requirement already satisfied: six>=1.5 in /usr/lib/python3/dist-packages (from python-dateutil>=2.8.0->qiskit-ibm-runtime) (1.14.0)\n",
      "Requirement already satisfied: typing-extensions>=4.6.1; python_version < \"3.13\" in /home/josegustavo/.local/lib/python3.8/site-packages (from pydantic>=2.5.0->qiskit-ibm-runtime) (4.12.2)\n",
      "Requirement already satisfied: annotated-types>=0.6.0 in /home/josegustavo/.local/lib/python3.8/site-packages (from pydantic>=2.5.0->qiskit-ibm-runtime) (0.7.0)\n",
      "Requirement already satisfied: pydantic-core==2.23.4 in /home/josegustavo/.local/lib/python3.8/site-packages (from pydantic>=2.5.0->qiskit-ibm-runtime) (2.23.4)\n",
      "Requirement already satisfied: dill>=0.3 in /home/josegustavo/.local/lib/python3.8/site-packages (from qiskit>=1.1.0->qiskit-ibm-runtime) (0.3.8)\n",
      "Requirement already satisfied: symengine>=0.11 in /home/josegustavo/.local/lib/python3.8/site-packages (from qiskit>=1.1.0->qiskit-ibm-runtime) (0.11.0)\n",
      "Requirement already satisfied: stevedore>=3.0.0 in /home/josegustavo/.local/lib/python3.8/site-packages (from qiskit>=1.1.0->qiskit-ibm-runtime) (5.3.0)\n",
      "Requirement already satisfied: sympy>=1.3 in /home/josegustavo/.local/lib/python3.8/site-packages (from qiskit>=1.1.0->qiskit-ibm-runtime) (1.13.3)\n",
      "Requirement already satisfied: rustworkx>=0.15.0 in /home/josegustavo/.local/lib/python3.8/site-packages (from qiskit>=1.1.0->qiskit-ibm-runtime) (0.15.1)\n",
      "Requirement already satisfied: scipy>=1.5 in /home/josegustavo/.local/lib/python3.8/site-packages (from qiskit>=1.1.0->qiskit-ibm-runtime) (1.10.1)\n",
      "Requirement already satisfied: pyspnego>=0.4.0 in /home/josegustavo/.local/lib/python3.8/site-packages (from requests-ntlm>=1.1.0->qiskit-ibm-runtime) (0.11.1)\n",
      "Requirement already satisfied: cryptography>=1.3 in /usr/lib/python3/dist-packages (from requests-ntlm>=1.1.0->qiskit-ibm-runtime) (2.8)\n",
      "Requirement already satisfied: PyJWT<3.0.0,>=2.8.0 in /home/josegustavo/.local/lib/python3.8/site-packages (from ibm-cloud-sdk-core<4.0.0,>=3.21.0->ibm-platform-services>=0.22.6->qiskit-ibm-runtime) (2.9.0)\n",
      "Requirement already satisfied: pbr>=2.0.0 in /home/josegustavo/.local/lib/python3.8/site-packages (from stevedore>=3.0.0->qiskit>=1.1.0->qiskit-ibm-runtime) (6.1.0)\n",
      "Requirement already satisfied: mpmath<1.4,>=1.1.0 in /home/josegustavo/.local/lib/python3.8/site-packages (from sympy>=1.3->qiskit>=1.1.0->qiskit-ibm-runtime) (1.3.0)\n"
     ]
    }
   ],
   "source": [
    "!pip install qiskit[all]\n",
    "!pip install qiskit-ibm-runtime"
   ]
  },
  {
   "cell_type": "markdown",
   "metadata": {},
   "source": [
    "### 1° Passo. Mapear o problema para um formato nativo quântico\n",
    "\n",
    "Em um programa quântico, **circuitos quânticos** são o formato nativo usado para representar instruções quânticas, e **operadores** representam os observáveis que serão medidos. Ao criar um circuito, normalmente você cria um novo objeto `QuantumCircuit`, e em seguida, adiciona as instruções a ele em sequência.\n",
    "\n",
    "O bloco de código a seguir cria um circuito que produz um **estado de Bell**, que é um estado onde dois qubits estão totalmente entrelaçados (ou emaranhados) um com o outro."
   ]
  },
  {
   "cell_type": "code",
   "execution_count": 4,
   "metadata": {},
   "outputs": [
    {
     "name": "stdout",
     "output_type": "stream",
     "text": [
      "Collecting requests\n",
      "  Downloading requests-2.32.3-py3-none-any.whl (64 kB)\n",
      "\u001b[K     |████████████████████████████████| 64 kB 101 kB/s eta 0:00:01\n",
      "\u001b[?25hCollecting charset-normalizer<4,>=2\n",
      "  Downloading charset_normalizer-3.3.2-cp38-cp38-manylinux_2_17_x86_64.manylinux2014_x86_64.whl (141 kB)\n",
      "\u001b[K     |████████████████████████████████| 141 kB 6.7 MB/s eta 0:00:01\n",
      "\u001b[?25hRequirement already satisfied, skipping upgrade: certifi>=2017.4.17 in /usr/lib/python3/dist-packages (from requests) (2019.11.28)\n",
      "Requirement already satisfied, skipping upgrade: idna<4,>=2.5 in /usr/lib/python3/dist-packages (from requests) (2.8)\n",
      "Requirement already satisfied, skipping upgrade: urllib3<3,>=1.21.1 in /usr/lib/python3/dist-packages (from requests) (1.25.8)\n",
      "\u001b[31mERROR: ibm-cloud-sdk-core 3.21.0 has requirement urllib3<3.0.0,>=2.1.0, but you'll have urllib3 1.25.8 which is incompatible.\u001b[0m\n",
      "Installing collected packages: charset-normalizer, requests\n",
      "Successfully installed charset-normalizer-3.3.2 requests-2.32.3\n",
      "Note: you may need to restart the kernel to use updated packages.\n"
     ]
    }
   ],
   "source": [
    "pip install --upgrade requests"
   ]
  },
  {
   "cell_type": "code",
   "execution_count": 3,
   "metadata": {},
   "outputs": [
    {
     "ename": "ImportError",
     "evalue": "cannot import name 'JSONDecodeError' from 'requests.exceptions' (/usr/lib/python3/dist-packages/requests/exceptions.py)",
     "output_type": "error",
     "traceback": [
      "\u001b[0;31m---------------------------------------------------------------------------\u001b[0m",
      "\u001b[0;31mImportError\u001b[0m                               Traceback (most recent call last)",
      "Cell \u001b[0;32mIn[3], line 4\u001b[0m\n\u001b[1;32m      2\u001b[0m \u001b[38;5;28;01mfrom\u001b[39;00m \u001b[38;5;21;01mqiskit\u001b[39;00m\u001b[38;5;21;01m.\u001b[39;00m\u001b[38;5;21;01mquantum_info\u001b[39;00m \u001b[38;5;28;01mimport\u001b[39;00m SparsePauliOp\n\u001b[1;32m      3\u001b[0m \u001b[38;5;28;01mfrom\u001b[39;00m \u001b[38;5;21;01mqiskit\u001b[39;00m\u001b[38;5;21;01m.\u001b[39;00m\u001b[38;5;21;01mtranspiler\u001b[39;00m\u001b[38;5;21;01m.\u001b[39;00m\u001b[38;5;21;01mpreset_passmanagers\u001b[39;00m \u001b[38;5;28;01mimport\u001b[39;00m generate_preset_pass_manager\n\u001b[0;32m----> 4\u001b[0m \u001b[38;5;28;01mfrom\u001b[39;00m \u001b[38;5;21;01mqiskit_ibm_runtime\u001b[39;00m \u001b[38;5;28;01mimport\u001b[39;00m EstimatorV2 \u001b[38;5;28;01mas\u001b[39;00m Estimator\n\u001b[1;32m      6\u001b[0m \u001b[38;5;66;03m# Create a new circuit with two qubits\u001b[39;00m\n\u001b[1;32m      7\u001b[0m qc \u001b[38;5;241m=\u001b[39m QuantumCircuit(\u001b[38;5;241m2\u001b[39m)\n",
      "File \u001b[0;32m~/.local/lib/python3.8/site-packages/qiskit_ibm_runtime/__init__.py:204\u001b[0m\n\u001b[1;32m    201\u001b[0m \u001b[38;5;28;01mimport\u001b[39;00m \u001b[38;5;21;01mlogging\u001b[39;00m\n\u001b[1;32m    202\u001b[0m \u001b[38;5;28;01mimport\u001b[39;00m \u001b[38;5;21;01mwarnings\u001b[39;00m\n\u001b[0;32m--> 204\u001b[0m \u001b[38;5;28;01mfrom\u001b[39;00m \u001b[38;5;21;01m.\u001b[39;00m\u001b[38;5;21;01mqiskit_runtime_service\u001b[39;00m \u001b[38;5;28;01mimport\u001b[39;00m QiskitRuntimeService\n\u001b[1;32m    205\u001b[0m \u001b[38;5;28;01mfrom\u001b[39;00m \u001b[38;5;21;01m.\u001b[39;00m\u001b[38;5;21;01mibm_backend\u001b[39;00m \u001b[38;5;28;01mimport\u001b[39;00m IBMBackend\n\u001b[1;32m    206\u001b[0m \u001b[38;5;28;01mfrom\u001b[39;00m \u001b[38;5;21;01m.\u001b[39;00m\u001b[38;5;21;01mruntime_job\u001b[39;00m \u001b[38;5;28;01mimport\u001b[39;00m RuntimeJob\n",
      "File \u001b[0;32m~/.local/lib/python3.8/site-packages/qiskit_ibm_runtime/qiskit_runtime_service.py:27\u001b[0m\n\u001b[1;32m     24\u001b[0m \u001b[38;5;28;01mfrom\u001b[39;00m \u001b[38;5;21;01mqiskit\u001b[39;00m\u001b[38;5;21;01m.\u001b[39;00m\u001b[38;5;21;01mproviders\u001b[39;00m\u001b[38;5;21;01m.\u001b[39;00m\u001b[38;5;21;01mexceptions\u001b[39;00m \u001b[38;5;28;01mimport\u001b[39;00m QiskitBackendNotFoundError\n\u001b[1;32m     25\u001b[0m \u001b[38;5;28;01mfrom\u001b[39;00m \u001b[38;5;21;01mqiskit\u001b[39;00m\u001b[38;5;21;01m.\u001b[39;00m\u001b[38;5;21;01mproviders\u001b[39;00m\u001b[38;5;21;01m.\u001b[39;00m\u001b[38;5;21;01mproviderutils\u001b[39;00m \u001b[38;5;28;01mimport\u001b[39;00m filter_backends\n\u001b[0;32m---> 27\u001b[0m \u001b[38;5;28;01mfrom\u001b[39;00m \u001b[38;5;21;01mqiskit_ibm_runtime\u001b[39;00m \u001b[38;5;28;01mimport\u001b[39;00m ibm_backend\n\u001b[1;32m     28\u001b[0m \u001b[38;5;28;01mfrom\u001b[39;00m \u001b[38;5;21;01m.\u001b[39;00m\u001b[38;5;21;01mproxies\u001b[39;00m \u001b[38;5;28;01mimport\u001b[39;00m ProxyConfiguration\n\u001b[1;32m     29\u001b[0m \u001b[38;5;28;01mfrom\u001b[39;00m \u001b[38;5;21;01m.\u001b[39;00m\u001b[38;5;21;01mutils\u001b[39;00m\u001b[38;5;21;01m.\u001b[39;00m\u001b[38;5;21;01mhgp\u001b[39;00m \u001b[38;5;28;01mimport\u001b[39;00m to_instance_format, from_instance_format\n",
      "File \u001b[0;32m~/.local/lib/python3.8/site-packages/qiskit_ibm_runtime/ibm_backend.py:45\u001b[0m\n\u001b[1;32m     35\u001b[0m \u001b[38;5;28;01mfrom\u001b[39;00m \u001b[38;5;21;01m.\u001b[39;00m\u001b[38;5;21;01mmodels\u001b[39;00m \u001b[38;5;28;01mimport\u001b[39;00m (\n\u001b[1;32m     36\u001b[0m     BackendStatus,\n\u001b[1;32m     37\u001b[0m     BackendProperties,\n\u001b[0;32m   (...)\u001b[0m\n\u001b[1;32m     41\u001b[0m     PulseBackendConfiguration,\n\u001b[1;32m     42\u001b[0m )\n\u001b[1;32m     44\u001b[0m \u001b[38;5;66;03m# temporary until we unite the 2 Session classes\u001b[39;00m\n\u001b[0;32m---> 45\u001b[0m \u001b[38;5;28;01mfrom\u001b[39;00m \u001b[38;5;21;01m.\u001b[39;00m\u001b[38;5;21;01mprovider_session\u001b[39;00m \u001b[38;5;28;01mimport\u001b[39;00m (\n\u001b[1;32m     46\u001b[0m     Session \u001b[38;5;28;01mas\u001b[39;00m ProviderSession,\n\u001b[1;32m     47\u001b[0m )\n\u001b[1;32m     49\u001b[0m \u001b[38;5;28;01mfrom\u001b[39;00m \u001b[38;5;21;01m.\u001b[39;00m \u001b[38;5;28;01mimport\u001b[39;00m qiskit_runtime_service  \u001b[38;5;66;03m# pylint: disable=unused-import,cyclic-import\u001b[39;00m\n\u001b[1;32m     50\u001b[0m \u001b[38;5;28;01mfrom\u001b[39;00m \u001b[38;5;21;01m.\u001b[39;00m\u001b[38;5;21;01mruntime_job\u001b[39;00m \u001b[38;5;28;01mimport\u001b[39;00m RuntimeJob\n",
      "File \u001b[0;32m~/.local/lib/python3.8/site-packages/qiskit_ibm_runtime/provider_session.py:19\u001b[0m\n\u001b[1;32m     16\u001b[0m \u001b[38;5;28;01mfrom\u001b[39;00m \u001b[38;5;21;01mtypes\u001b[39;00m \u001b[38;5;28;01mimport\u001b[39;00m TracebackType\n\u001b[1;32m     17\u001b[0m \u001b[38;5;28;01mfrom\u001b[39;00m \u001b[38;5;21;01mcontextvars\u001b[39;00m \u001b[38;5;28;01mimport\u001b[39;00m ContextVar\n\u001b[0;32m---> 19\u001b[0m \u001b[38;5;28;01mfrom\u001b[39;00m \u001b[38;5;21;01m.\u001b[39;00m\u001b[38;5;21;01mutils\u001b[39;00m\u001b[38;5;21;01m.\u001b[39;00m\u001b[38;5;21;01mconverters\u001b[39;00m \u001b[38;5;28;01mimport\u001b[39;00m hms_to_seconds\n\u001b[1;32m     22\u001b[0m \u001b[38;5;28;01mclass\u001b[39;00m \u001b[38;5;21;01mSession\u001b[39;00m:\n\u001b[1;32m     23\u001b[0m \u001b[38;5;250m    \u001b[39m\u001b[38;5;124;03m\"\"\"Class for creating a flexible Qiskit Runtime session.\u001b[39;00m\n\u001b[1;32m     24\u001b[0m \n\u001b[1;32m     25\u001b[0m \u001b[38;5;124;03m    A Qiskit Runtime ``session`` allows you to group a collection of iterative calls to\u001b[39;00m\n\u001b[0;32m   (...)\u001b[0m\n\u001b[1;32m     57\u001b[0m \n\u001b[1;32m     58\u001b[0m \u001b[38;5;124;03m    \"\"\"\u001b[39;00m\n",
      "File \u001b[0;32m~/.local/lib/python3.8/site-packages/qiskit_ibm_runtime/utils/__init__.py:22\u001b[0m\n\u001b[1;32m     15\u001b[0m \u001b[38;5;28;01mfrom\u001b[39;00m \u001b[38;5;21;01m.\u001b[39;00m\u001b[38;5;21;01mconverters\u001b[39;00m \u001b[38;5;28;01mimport\u001b[39;00m (\n\u001b[1;32m     16\u001b[0m     utc_to_local,\n\u001b[1;32m     17\u001b[0m     local_to_utc,\n\u001b[1;32m     18\u001b[0m     seconds_to_duration,\n\u001b[1;32m     19\u001b[0m     duration_difference,\n\u001b[1;32m     20\u001b[0m )\n\u001b[1;32m     21\u001b[0m \u001b[38;5;28;01mfrom\u001b[39;00m \u001b[38;5;21;01m.\u001b[39;00m\u001b[38;5;21;01membeddings\u001b[39;00m \u001b[38;5;28;01mimport\u001b[39;00m Embedding\n\u001b[0;32m---> 22\u001b[0m \u001b[38;5;28;01mfrom\u001b[39;00m \u001b[38;5;21;01m.\u001b[39;00m\u001b[38;5;21;01mutils\u001b[39;00m \u001b[38;5;28;01mimport\u001b[39;00m (\n\u001b[1;32m     23\u001b[0m     to_python_identifier,\n\u001b[1;32m     24\u001b[0m     is_crn,\n\u001b[1;32m     25\u001b[0m     get_runtime_api_base_url,\n\u001b[1;32m     26\u001b[0m     default_runtime_url_resolver,\n\u001b[1;32m     27\u001b[0m     resolve_crn,\n\u001b[1;32m     28\u001b[0m     are_circuits_dynamic,\n\u001b[1;32m     29\u001b[0m )\n\u001b[1;32m     30\u001b[0m \u001b[38;5;28;01mfrom\u001b[39;00m \u001b[38;5;21;01m.\u001b[39;00m\u001b[38;5;21;01mvalidations\u001b[39;00m \u001b[38;5;28;01mimport\u001b[39;00m (\n\u001b[1;32m     31\u001b[0m     validate_estimator_pubs,\n\u001b[1;32m     32\u001b[0m     validate_classical_registers,\n\u001b[0;32m   (...)\u001b[0m\n\u001b[1;32m     35\u001b[0m     validate_job_tags,\n\u001b[1;32m     36\u001b[0m )\n\u001b[1;32m     38\u001b[0m \u001b[38;5;28;01mfrom\u001b[39;00m \u001b[38;5;21;01m.\u001b[39;00m\u001b[38;5;21;01mjson\u001b[39;00m \u001b[38;5;28;01mimport\u001b[39;00m RuntimeEncoder, RuntimeDecoder, to_base64_string\n",
      "File \u001b[0;32m~/.local/lib/python3.8/site-packages/qiskit_ibm_runtime/utils/utils.py:27\u001b[0m\n\u001b[1;32m     24\u001b[0m \u001b[38;5;28;01mfrom\u001b[39;00m \u001b[38;5;21;01murllib\u001b[39;00m\u001b[38;5;21;01m.\u001b[39;00m\u001b[38;5;21;01mparse\u001b[39;00m \u001b[38;5;28;01mimport\u001b[39;00m urlparse\n\u001b[1;32m     26\u001b[0m \u001b[38;5;28;01mimport\u001b[39;00m \u001b[38;5;21;01mrequests\u001b[39;00m\n\u001b[0;32m---> 27\u001b[0m \u001b[38;5;28;01mfrom\u001b[39;00m \u001b[38;5;21;01mibm_cloud_sdk_core\u001b[39;00m\u001b[38;5;21;01m.\u001b[39;00m\u001b[38;5;21;01mauthenticators\u001b[39;00m \u001b[38;5;28;01mimport\u001b[39;00m (  \u001b[38;5;66;03m# pylint: disable=import-error\u001b[39;00m\n\u001b[1;32m     28\u001b[0m     IAMAuthenticator,\n\u001b[1;32m     29\u001b[0m )\n\u001b[1;32m     30\u001b[0m \u001b[38;5;28;01mfrom\u001b[39;00m \u001b[38;5;21;01mibm_platform_services\u001b[39;00m \u001b[38;5;28;01mimport\u001b[39;00m ResourceControllerV2  \u001b[38;5;66;03m# pylint: disable=import-error\u001b[39;00m\n\u001b[1;32m     31\u001b[0m \u001b[38;5;28;01mfrom\u001b[39;00m \u001b[38;5;21;01mqiskit\u001b[39;00m\u001b[38;5;21;01m.\u001b[39;00m\u001b[38;5;21;01mcircuit\u001b[39;00m \u001b[38;5;28;01mimport\u001b[39;00m QuantumCircuit, ControlFlowOp\n",
      "File \u001b[0;32m~/.local/lib/python3.8/site-packages/ibm_cloud_sdk_core/__init__.py:39\u001b[0m\n\u001b[1;32m      1\u001b[0m \u001b[38;5;66;03m# coding: utf-8\u001b[39;00m\n\u001b[1;32m      2\u001b[0m \u001b[38;5;66;03m# Copyright 2019 IBM All Rights Reserved.\u001b[39;00m\n\u001b[1;32m      3\u001b[0m \u001b[38;5;66;03m#\u001b[39;00m\n\u001b[0;32m   (...)\u001b[0m\n\u001b[1;32m     13\u001b[0m \u001b[38;5;66;03m# See the License for the specific language governing permissions and\u001b[39;00m\n\u001b[1;32m     14\u001b[0m \u001b[38;5;66;03m# limitations under the License.\u001b[39;00m\n\u001b[1;32m     15\u001b[0m \u001b[38;5;124;03m\"\"\"Classes and helper functions used by generated SDKs.\u001b[39;00m\n\u001b[1;32m     16\u001b[0m \n\u001b[1;32m     17\u001b[0m \u001b[38;5;124;03mclasses:\u001b[39;00m\n\u001b[0;32m   (...)\u001b[0m\n\u001b[1;32m     36\u001b[0m \u001b[38;5;124;03m    get_authenticator_from_environment: Get authenticator from external sources.\u001b[39;00m\n\u001b[1;32m     37\u001b[0m \u001b[38;5;124;03m\"\"\"\u001b[39;00m\n\u001b[0;32m---> 39\u001b[0m \u001b[38;5;28;01mfrom\u001b[39;00m \u001b[38;5;21;01m.\u001b[39;00m\u001b[38;5;21;01mbase_service\u001b[39;00m \u001b[38;5;28;01mimport\u001b[39;00m BaseService\n\u001b[1;32m     40\u001b[0m \u001b[38;5;28;01mfrom\u001b[39;00m \u001b[38;5;21;01m.\u001b[39;00m\u001b[38;5;21;01mdetailed_response\u001b[39;00m \u001b[38;5;28;01mimport\u001b[39;00m DetailedResponse\n\u001b[1;32m     41\u001b[0m \u001b[38;5;28;01mfrom\u001b[39;00m \u001b[38;5;21;01m.\u001b[39;00m\u001b[38;5;21;01mtoken_managers\u001b[39;00m\u001b[38;5;21;01m.\u001b[39;00m\u001b[38;5;21;01miam_token_manager\u001b[39;00m \u001b[38;5;28;01mimport\u001b[39;00m IAMTokenManager\n",
      "File \u001b[0;32m~/.local/lib/python3.8/site-packages/ibm_cloud_sdk_core/base_service.py:29\u001b[0m\n\u001b[1;32m     27\u001b[0m \u001b[38;5;28;01mimport\u001b[39;00m \u001b[38;5;21;01mrequests\u001b[39;00m\n\u001b[1;32m     28\u001b[0m \u001b[38;5;28;01mfrom\u001b[39;00m \u001b[38;5;21;01mrequests\u001b[39;00m\u001b[38;5;21;01m.\u001b[39;00m\u001b[38;5;21;01mstructures\u001b[39;00m \u001b[38;5;28;01mimport\u001b[39;00m CaseInsensitiveDict\n\u001b[0;32m---> 29\u001b[0m \u001b[38;5;28;01mfrom\u001b[39;00m \u001b[38;5;21;01mrequests\u001b[39;00m\u001b[38;5;21;01m.\u001b[39;00m\u001b[38;5;21;01mexceptions\u001b[39;00m \u001b[38;5;28;01mimport\u001b[39;00m JSONDecodeError\n\u001b[1;32m     31\u001b[0m \u001b[38;5;28;01mfrom\u001b[39;00m \u001b[38;5;21;01mibm_cloud_sdk_core\u001b[39;00m\u001b[38;5;21;01m.\u001b[39;00m\u001b[38;5;21;01mauthenticators\u001b[39;00m \u001b[38;5;28;01mimport\u001b[39;00m Authenticator\n\u001b[1;32m     32\u001b[0m \u001b[38;5;28;01mfrom\u001b[39;00m \u001b[38;5;21;01m.\u001b[39;00m\u001b[38;5;21;01mapi_exception\u001b[39;00m \u001b[38;5;28;01mimport\u001b[39;00m ApiException\n",
      "\u001b[0;31mImportError\u001b[0m: cannot import name 'JSONDecodeError' from 'requests.exceptions' (/usr/lib/python3/dist-packages/requests/exceptions.py)"
     ]
    }
   ],
   "source": [
    "from qiskit import QuantumCircuit\n",
    "from qiskit.quantum_info import SparsePauliOp\n",
    "from qiskit.transpiler.preset_passmanagers import generate_preset_pass_manager\n",
    "from qiskit_ibm_runtime import EstimatorV2 as Estimator\n",
    " \n",
    "# Create a new circuit with two qubits\n",
    "qc = QuantumCircuit(2)\n",
    " \n",
    "# Add a Hadamard gate to qubit 0\n",
    "qc.h(0)\n",
    " \n",
    "# Perform a controlled-X gate on qubit 1, controlled by qubit 0\n",
    "qc.cx(0, 1)\n",
    " \n",
    "# Return a drawing of the circuit using MatPlotLib (\"mpl\"). This is the\n",
    "# last line of the cell, so the drawing appears in the cell output.\n",
    "# Remove the \"mpl\" argument to get a text drawing.\n",
    "qc.draw(\"mpl\")"
   ]
  }
 ],
 "metadata": {
  "kernelspec": {
   "display_name": "Python 3",
   "language": "python",
   "name": "python3"
  },
  "language_info": {
   "codemirror_mode": {
    "name": "ipython",
    "version": 3
   },
   "file_extension": ".py",
   "mimetype": "text/x-python",
   "name": "python",
   "nbconvert_exporter": "python",
   "pygments_lexer": "ipython3",
   "version": "3.8.10"
  }
 },
 "nbformat": 4,
 "nbformat_minor": 2
}
